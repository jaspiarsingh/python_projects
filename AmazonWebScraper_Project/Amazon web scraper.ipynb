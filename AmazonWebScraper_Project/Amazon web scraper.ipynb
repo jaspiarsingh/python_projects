{
 "cells": [
  {
   "cell_type": "code",
   "execution_count": 83,
   "id": "956459fe",
   "metadata": {},
   "outputs": [],
   "source": [
    "#import libraries \n",
    "\n",
    "from bs4 import BeautifulSoup\n",
    "import requests\n",
    "import time \n",
    "import datetime\n",
    "import smtplib"
   ]
  },
  {
   "cell_type": "code",
   "execution_count": 84,
   "id": "2b3c288d",
   "metadata": {},
   "outputs": [],
   "source": [
    "#connect to website \n",
    "\n",
    "url = 'https://www.amazon.com/funny-analyst-definition-scientist-t-shirt/dp/B07NLP2PKY/ref=sr_1_2?crid=WVZ4YYZHGRIU&dib=eyJ2IjoiMSJ9.tEBgpekNFETqoJ1CIDr6My4n_05ZrzjuH2Az44Ht9Pk_1oqEHhvD3dCRRBqNOc3B2QDsjhizj8ndCVz_tDJItskWQ701GMLDl5amj_Oan7p6IvZI1crB98g5qY_PGXsFJhpThGk1FKwGz8vDjy8C5WELkrygt5AFahiQiMLm0FwqAo-3hGcgy2GMg4rv0IBEjM9L5Q9qSwCWgnbfcHSyge8h-AoTwJQ5vK_vLYeuI9tCoZVxNVTPse8031GywK-Oo11PH1w4x8pN_UMmvBD6Ak-3lcWXTI7d8eGHfjpjKps.xnp_a96JR5ojCIRidg7jVPdyyNw8e0pH1aqZQY6EAz8&dib_tag=se&keywords=funny+data+t+shirts&qid=1709524253&sprefix=funny+data+t+shirt%2Caps%2C166&sr=8-2'\n",
    "\n",
    "headers = {\"User-Agent\": \"Mozilla/5.0 (Windows NT 10.0; Win64; x64) AppleWebKit/537.36 (KHTML, like Gecko) Chrome/122.0.0.0 Safari/537.36\"}\n",
    "\n",
    "page = requests.get(url, headers = headers)"
   ]
  },
  {
   "cell_type": "code",
   "execution_count": 85,
   "id": "878ff328",
   "metadata": {},
   "outputs": [],
   "source": [
    "soup1 = BeautifulSoup(page.content, \"html.parser\")"
   ]
  },
  {
   "cell_type": "code",
   "execution_count": 86,
   "id": "94103b3d",
   "metadata": {},
   "outputs": [],
   "source": [
    "soup2 = BeautifulSoup(soup1.prettify(), \"html.parser\")\n",
    "\n"
   ]
  },
  {
   "cell_type": "code",
   "execution_count": 88,
   "id": "25fc63ec",
   "metadata": {},
   "outputs": [
    {
     "ename": "AttributeError",
     "evalue": "'NoneType' object has no attribute 'get_text'",
     "output_type": "error",
     "traceback": [
      "\u001b[1;31m---------------------------------------------------------------------------\u001b[0m",
      "\u001b[1;31mAttributeError\u001b[0m                            Traceback (most recent call last)",
      "\u001b[1;32m~\\AppData\\Local\\Temp\\ipykernel_12344\\2682818531.py\u001b[0m in \u001b[0;36m<module>\u001b[1;34m\u001b[0m\n\u001b[0;32m      1\u001b[0m \u001b[1;31m#get the title of the product\u001b[0m\u001b[1;33m\u001b[0m\u001b[1;33m\u001b[0m\u001b[0m\n\u001b[0;32m      2\u001b[0m \u001b[1;33m\u001b[0m\u001b[0m\n\u001b[1;32m----> 3\u001b[1;33m \u001b[0mtitle\u001b[0m \u001b[1;33m=\u001b[0m \u001b[0msoup2\u001b[0m\u001b[1;33m.\u001b[0m\u001b[0mfind\u001b[0m\u001b[1;33m(\u001b[0m\u001b[0mid\u001b[0m\u001b[1;33m=\u001b[0m\u001b[1;34m'productTitle'\u001b[0m\u001b[1;33m)\u001b[0m\u001b[1;33m.\u001b[0m\u001b[0mget_text\u001b[0m\u001b[1;33m(\u001b[0m\u001b[1;33m)\u001b[0m\u001b[1;33m\u001b[0m\u001b[1;33m\u001b[0m\u001b[0m\n\u001b[0m",
      "\u001b[1;31mAttributeError\u001b[0m: 'NoneType' object has no attribute 'get_text'"
     ]
    }
   ],
   "source": [
    "#get the title of the product\n",
    "\n",
    "title = soup2.find(id='productTitle').get_text()"
   ]
  },
  {
   "cell_type": "code",
   "execution_count": 89,
   "id": "e60f98e5",
   "metadata": {},
   "outputs": [
    {
     "data": {
      "text/plain": [
       "'funny data analyst definition data scientist T-Shirt'"
      ]
     },
     "execution_count": 89,
     "metadata": {},
     "output_type": "execute_result"
    }
   ],
   "source": [
    "title.strip()"
   ]
  },
  {
   "cell_type": "code",
   "execution_count": 55,
   "id": "743a8049",
   "metadata": {},
   "outputs": [],
   "source": [
    "#get the price of the product\n",
    "\n",
    "price = soup2.find(\"span\", {\"class\": \"aok-offscreen\"}).get_text()"
   ]
  },
  {
   "cell_type": "code",
   "execution_count": 90,
   "id": "44aba062",
   "metadata": {},
   "outputs": [
    {
     "name": "stdout",
     "output_type": "stream",
     "text": [
      "\n",
      "                    $19.99\n",
      "                   \n"
     ]
    }
   ],
   "source": [
    "print(price)"
   ]
  },
  {
   "cell_type": "code",
   "execution_count": 99,
   "id": "7c7640e8",
   "metadata": {},
   "outputs": [],
   "source": [
    "#renove $ sign \n",
    "price = price.strip()[1:]"
   ]
  },
  {
   "cell_type": "code",
   "execution_count": 101,
   "id": "d6ebe34e",
   "metadata": {},
   "outputs": [],
   "source": [
    "title=title.strip()"
   ]
  },
  {
   "cell_type": "code",
   "execution_count": 102,
   "id": "02faace1",
   "metadata": {},
   "outputs": [
    {
     "name": "stdout",
     "output_type": "stream",
     "text": [
      "funny data analyst definition data scientist T-Shirt\n",
      "19.99\n"
     ]
    }
   ],
   "source": [
    "print(title)\n",
    "print(price)"
   ]
  },
  {
   "cell_type": "code",
   "execution_count": 103,
   "id": "58a288d5",
   "metadata": {},
   "outputs": [
    {
     "name": "stdout",
     "output_type": "stream",
     "text": [
      "2024-03-03\n"
     ]
    }
   ],
   "source": [
    "import datetime\n",
    "\n",
    "today = datetime.date.today()\n",
    "\n",
    "print(today)\n"
   ]
  },
  {
   "cell_type": "code",
   "execution_count": 104,
   "id": "3dcbb747",
   "metadata": {},
   "outputs": [],
   "source": [
    "import csv\n",
    "\n",
    "header = ['Title', 'Price', 'Date']\n",
    "\n",
    "data = [title,price,today] \n",
    "\n",
    "with open('AmazonWebScraperDataset.csv', 'w', newline= '', encoding = 'UTF8') as f:\n",
    "    writer = csv.writer(f)\n",
    "    writer.writerow(header)\n",
    "    writer.writerow(data)\n",
    "    "
   ]
  },
  {
   "cell_type": "code",
   "execution_count": 76,
   "id": "c4641f85",
   "metadata": {},
   "outputs": [
    {
     "name": "stdout",
     "output_type": "stream",
     "text": [
      "2024-03-03\n"
     ]
    }
   ],
   "source": [
    "import datetime\n",
    "\n",
    "today = datetime.date.today()\n",
    "\n",
    "print(today)\n",
    "\n",
    "\n",
    "\n"
   ]
  },
  {
   "cell_type": "code",
   "execution_count": 110,
   "id": "0dc127ed",
   "metadata": {},
   "outputs": [
    {
     "name": "stdout",
     "output_type": "stream",
     "text": [
      "                                               Title  Price        Date\n",
      "0  funny data analyst definition data scientist T...  19.99  2024-03-03\n",
      "1  funny data analyst definition data scientist T...  19.99  2024-03-03\n",
      "2  funny data analyst definition data scientist T...  19.99  2024-03-03\n",
      "3  funny data analyst definition data scientist T...  19.99  2024-03-03\n",
      "4  funny data analyst definition data scientist T...  19.99  2024-03-03\n"
     ]
    }
   ],
   "source": [
    "import pandas as pd \n",
    "\n",
    "df = pd.read_csv(r'C:\\Users\\jaspiar\\AmazonWebScraperDataset.csv')\n",
    "\n",
    "print(df)"
   ]
  },
  {
   "cell_type": "code",
   "execution_count": 109,
   "id": "386c8d40",
   "metadata": {},
   "outputs": [],
   "source": [
    "#append data to the csv \n",
    "with open('AmazonWebScraperDataset.csv', 'a+', newline='',encoding = 'UTF8') as f:\n",
    "    writer = csv.writer(f)\n",
    "    writer.writerow(data)"
   ]
  },
  {
   "cell_type": "code",
   "execution_count": null,
   "id": "71c80e21",
   "metadata": {},
   "outputs": [],
   "source": []
  },
  {
   "cell_type": "code",
   "execution_count": null,
   "id": "ab5b3a19",
   "metadata": {},
   "outputs": [],
   "source": []
  },
  {
   "cell_type": "code",
   "execution_count": null,
   "id": "f59a3269",
   "metadata": {},
   "outputs": [],
   "source": []
  },
  {
   "cell_type": "code",
   "execution_count": null,
   "id": "98565181",
   "metadata": {},
   "outputs": [],
   "source": []
  },
  {
   "cell_type": "code",
   "execution_count": null,
   "id": "74a14f5f",
   "metadata": {},
   "outputs": [],
   "source": []
  },
  {
   "cell_type": "code",
   "execution_count": null,
   "id": "607faf3b",
   "metadata": {},
   "outputs": [],
   "source": []
  },
  {
   "cell_type": "code",
   "execution_count": null,
   "id": "95c3bb49",
   "metadata": {},
   "outputs": [],
   "source": []
  },
  {
   "cell_type": "code",
   "execution_count": null,
   "id": "d05e0fbb",
   "metadata": {},
   "outputs": [],
   "source": []
  },
  {
   "cell_type": "code",
   "execution_count": null,
   "id": "01ca58e6",
   "metadata": {},
   "outputs": [],
   "source": []
  },
  {
   "cell_type": "code",
   "execution_count": null,
   "id": "9cff7eb0",
   "metadata": {},
   "outputs": [],
   "source": []
  },
  {
   "cell_type": "code",
   "execution_count": null,
   "id": "f92675f1",
   "metadata": {},
   "outputs": [],
   "source": []
  },
  {
   "cell_type": "code",
   "execution_count": null,
   "id": "405b3899",
   "metadata": {},
   "outputs": [],
   "source": []
  },
  {
   "cell_type": "code",
   "execution_count": null,
   "id": "8d06b8d6",
   "metadata": {},
   "outputs": [],
   "source": []
  },
  {
   "cell_type": "code",
   "execution_count": null,
   "id": "eae6aa6b",
   "metadata": {},
   "outputs": [],
   "source": []
  },
  {
   "cell_type": "code",
   "execution_count": null,
   "id": "3ec36170",
   "metadata": {},
   "outputs": [],
   "source": []
  }
 ],
 "metadata": {
  "kernelspec": {
   "display_name": "Python 3 (ipykernel)",
   "language": "python",
   "name": "python3"
  },
  "language_info": {
   "codemirror_mode": {
    "name": "ipython",
    "version": 3
   },
   "file_extension": ".py",
   "mimetype": "text/x-python",
   "name": "python",
   "nbconvert_exporter": "python",
   "pygments_lexer": "ipython3",
   "version": "3.9.13"
  }
 },
 "nbformat": 4,
 "nbformat_minor": 5
}
